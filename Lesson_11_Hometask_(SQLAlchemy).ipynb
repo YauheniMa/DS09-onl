{
  "nbformat": 4,
  "nbformat_minor": 0,
  "metadata": {
    "colab": {
      "provenance": []
    },
    "kernelspec": {
      "name": "python3",
      "display_name": "Python 3"
    },
    "language_info": {
      "name": "python"
    }
  },
  "cells": [
    {
      "cell_type": "code",
      "execution_count": 114,
      "metadata": {
        "colab": {
          "base_uri": "https://localhost:8080/"
        },
        "id": "zL50KuxlIX6T",
        "outputId": "ae94f335-4cf5-471f-b644-abe241d020aa"
      },
      "outputs": [
        {
          "output_type": "stream",
          "name": "stdout",
          "text": [
            "Requirement already satisfied: sqlalchemy in /usr/local/lib/python3.11/dist-packages (2.0.37)\n",
            "Requirement already satisfied: greenlet!=0.4.17 in /usr/local/lib/python3.11/dist-packages (from sqlalchemy) (3.1.1)\n",
            "Requirement already satisfied: typing-extensions>=4.6.0 in /usr/local/lib/python3.11/dist-packages (from sqlalchemy) (4.12.2)\n"
          ]
        }
      ],
      "source": [
        "!pip install sqlalchemy"
      ]
    },
    {
      "cell_type": "code",
      "source": [
        "import sqlalchemy as db"
      ],
      "metadata": {
        "id": "4QX-x01PJAKT"
      },
      "execution_count": 115,
      "outputs": []
    },
    {
      "cell_type": "code",
      "source": [
        "dir(db)"
      ],
      "metadata": {
        "colab": {
          "base_uri": "https://localhost:8080/"
        },
        "id": "nCAjElL4pKBs",
        "outputId": "9ad2066f-c8d6-47f0-975f-40d2ba161f74"
      },
      "execution_count": 116,
      "outputs": [
        {
          "output_type": "execute_result",
          "data": {
            "text/plain": [
              "['ARRAY',\n",
              " 'AdaptedConnection',\n",
              " 'Alias',\n",
              " 'AliasedReturnsRows',\n",
              " 'Any',\n",
              " 'AssertionPool',\n",
              " 'AsyncAdaptedQueuePool',\n",
              " 'BIGINT',\n",
              " 'BINARY',\n",
              " 'BLANK_SCHEMA',\n",
              " 'BLOB',\n",
              " 'BOOLEAN',\n",
              " 'BaseDDLElement',\n",
              " 'BaseRow',\n",
              " 'BigInteger',\n",
              " 'BinaryExpression',\n",
              " 'BindParameter',\n",
              " 'BindTyping',\n",
              " 'Boolean',\n",
              " 'BooleanClauseList',\n",
              " 'CHAR',\n",
              " 'CLOB',\n",
              " 'CTE',\n",
              " 'CacheKey',\n",
              " 'Case',\n",
              " 'Cast',\n",
              " 'CheckConstraint',\n",
              " 'ChunkedIteratorResult',\n",
              " 'ClauseElement',\n",
              " 'ClauseList',\n",
              " 'CollectionAggregate',\n",
              " 'Column',\n",
              " 'ColumnClause',\n",
              " 'ColumnCollection',\n",
              " 'ColumnDefault',\n",
              " 'ColumnElement',\n",
              " 'ColumnExpressionArgument',\n",
              " 'ColumnOperators',\n",
              " 'Compiled',\n",
              " 'CompoundSelect',\n",
              " 'Computed',\n",
              " 'Connection',\n",
              " 'Constraint',\n",
              " 'CreateEnginePlugin',\n",
              " 'CursorResult',\n",
              " 'DATE',\n",
              " 'DATETIME',\n",
              " 'DDL',\n",
              " 'DDLElement',\n",
              " 'DECIMAL',\n",
              " 'DOUBLE',\n",
              " 'DOUBLE_PRECISION',\n",
              " 'Date',\n",
              " 'DateTime',\n",
              " 'DefaultClause',\n",
              " 'Delete',\n",
              " 'Dialect',\n",
              " 'Double',\n",
              " 'Engine',\n",
              " 'Enum',\n",
              " 'ExceptionContext',\n",
              " 'Executable',\n",
              " 'ExecutableDDLElement',\n",
              " 'ExecutionContext',\n",
              " 'Exists',\n",
              " 'Extract',\n",
              " 'FLOAT',\n",
              " 'FallbackAsyncAdaptedQueuePool',\n",
              " 'False_',\n",
              " 'FetchedValue',\n",
              " 'Float',\n",
              " 'ForeignKey',\n",
              " 'ForeignKeyConstraint',\n",
              " 'FromClause',\n",
              " 'FromGrouping',\n",
              " 'FrozenResult',\n",
              " 'Function',\n",
              " 'FunctionElement',\n",
              " 'FunctionFilter',\n",
              " 'GenerativeSelect',\n",
              " 'Grouping',\n",
              " 'HasCTE',\n",
              " 'HasPrefixes',\n",
              " 'HasSuffixes',\n",
              " 'INT',\n",
              " 'INTEGER',\n",
              " 'Identity',\n",
              " 'Index',\n",
              " 'Insert',\n",
              " 'Inspector',\n",
              " 'Integer',\n",
              " 'Interval',\n",
              " 'IteratorResult',\n",
              " 'JSON',\n",
              " 'Join',\n",
              " 'LABEL_STYLE_DEFAULT',\n",
              " 'LABEL_STYLE_DISAMBIGUATE_ONLY',\n",
              " 'LABEL_STYLE_NONE',\n",
              " 'LABEL_STYLE_TABLENAME_PLUS_COL',\n",
              " 'Label',\n",
              " 'LambdaElement',\n",
              " 'LargeBinary',\n",
              " 'Lateral',\n",
              " 'MappingResult',\n",
              " 'MergedResult',\n",
              " 'MetaData',\n",
              " 'NCHAR',\n",
              " 'NUMERIC',\n",
              " 'NVARCHAR',\n",
              " 'NestedTransaction',\n",
              " 'NotNullable',\n",
              " 'Null',\n",
              " 'NullPool',\n",
              " 'Nullable',\n",
              " 'Numeric',\n",
              " 'Operators',\n",
              " 'Over',\n",
              " 'PickleType',\n",
              " 'Pool',\n",
              " 'PoolProxiedConnection',\n",
              " 'PoolResetState',\n",
              " 'PrimaryKeyConstraint',\n",
              " 'QueuePool',\n",
              " 'REAL',\n",
              " 'ReleaseSavepointClause',\n",
              " 'Result',\n",
              " 'ResultProxy',\n",
              " 'ReturnsRows',\n",
              " 'RollbackToSavepointClause',\n",
              " 'RootTransaction',\n",
              " 'Row',\n",
              " 'RowMapping',\n",
              " 'SMALLINT',\n",
              " 'SQLColumnExpression',\n",
              " 'SavepointClause',\n",
              " 'ScalarResult',\n",
              " 'ScalarSelect',\n",
              " 'Select',\n",
              " 'SelectBase',\n",
              " 'SelectLabelStyle',\n",
              " 'Selectable',\n",
              " 'Sequence',\n",
              " 'SingletonThreadPool',\n",
              " 'SmallInteger',\n",
              " 'StatementLambdaElement',\n",
              " 'StaticPool',\n",
              " 'String',\n",
              " 'Subquery',\n",
              " 'TEXT',\n",
              " 'TIME',\n",
              " 'TIMESTAMP',\n",
              " 'Table',\n",
              " 'TableClause',\n",
              " 'TableSample',\n",
              " 'TableValuedAlias',\n",
              " 'Text',\n",
              " 'TextAsFrom',\n",
              " 'TextClause',\n",
              " 'TextualSelect',\n",
              " 'Time',\n",
              " 'Transaction',\n",
              " 'True_',\n",
              " 'TryCast',\n",
              " 'Tuple',\n",
              " 'TupleType',\n",
              " 'TwoPhaseTransaction',\n",
              " 'TypeClause',\n",
              " 'TypeCoerce',\n",
              " 'TypeCompiler',\n",
              " 'TypeDecorator',\n",
              " 'URL',\n",
              " 'UUID',\n",
              " 'UnaryExpression',\n",
              " 'Unicode',\n",
              " 'UnicodeText',\n",
              " 'UniqueConstraint',\n",
              " 'Update',\n",
              " 'UpdateBase',\n",
              " 'Uuid',\n",
              " 'VARBINARY',\n",
              " 'VARCHAR',\n",
              " 'Values',\n",
              " 'ValuesBase',\n",
              " 'Visitable',\n",
              " 'WithinGroup',\n",
              " '__builtins__',\n",
              " '__cached__',\n",
              " '__doc__',\n",
              " '__file__',\n",
              " '__getattr__',\n",
              " '__go',\n",
              " '__loader__',\n",
              " '__name__',\n",
              " '__package__',\n",
              " '__path__',\n",
              " '__spec__',\n",
              " '__version__',\n",
              " '_util',\n",
              " 'alias',\n",
              " 'all_',\n",
              " 'and_',\n",
              " 'annotations',\n",
              " 'any_',\n",
              " 'asc',\n",
              " 'between',\n",
              " 'bindparam',\n",
              " 'bitwise_not',\n",
              " 'case',\n",
              " 'cast',\n",
              " 'collate',\n",
              " 'column',\n",
              " 'create_engine',\n",
              " 'create_mock_engine',\n",
              " 'create_pool_from_url',\n",
              " 'cte',\n",
              " 'custom_op',\n",
              " 'cyextension',\n",
              " 'delete',\n",
              " 'desc',\n",
              " 'dialects',\n",
              " 'distinct',\n",
              " 'engine',\n",
              " 'engine_from_config',\n",
              " 'event',\n",
              " 'exc',\n",
              " 'except_',\n",
              " 'except_all',\n",
              " 'exists',\n",
              " 'extract',\n",
              " 'false',\n",
              " 'func',\n",
              " 'funcfilter',\n",
              " 'insert',\n",
              " 'insert_sentinel',\n",
              " 'inspect',\n",
              " 'inspection',\n",
              " 'intersect',\n",
              " 'intersect_all',\n",
              " 'join',\n",
              " 'label',\n",
              " 'lambda_stmt',\n",
              " 'lateral',\n",
              " 'literal',\n",
              " 'literal_column',\n",
              " 'log',\n",
              " 'make_url',\n",
              " 'modifier',\n",
              " 'not_',\n",
              " 'null',\n",
              " 'nulls_first',\n",
              " 'nulls_last',\n",
              " 'nullsfirst',\n",
              " 'nullslast',\n",
              " 'or_',\n",
              " 'outerjoin',\n",
              " 'outparam',\n",
              " 'over',\n",
              " 'pool',\n",
              " 'quoted_name',\n",
              " 'result_tuple',\n",
              " 'schema',\n",
              " 'select',\n",
              " 'sql',\n",
              " 'table',\n",
              " 'tablesample',\n",
              " 'text',\n",
              " 'true',\n",
              " 'try_cast',\n",
              " 'tuple_',\n",
              " 'type_coerce',\n",
              " 'types',\n",
              " 'union',\n",
              " 'union_all',\n",
              " 'update',\n",
              " 'util',\n",
              " 'values',\n",
              " 'within_group']"
            ]
          },
          "metadata": {},
          "execution_count": 116
        }
      ]
    },
    {
      "cell_type": "code",
      "source": [
        "def inspector() -> None:\n",
        "  inspector = db.inspect(engine)\n",
        "  tables = inspector.get_table_names()\n",
        "  print(tables)\n",
        "  print(\"Для просмотра таблицы, введите view_table(table_name).\")\n",
        "  print(\"Например для 'Classroom' будет view_table(classroom).\")\n",
        "\n",
        "def view_table(metadates: db.Table) -> None:\n",
        "  select_all_query = db.select(metadates)\n",
        "  select_result = conn.execute(select_all_query)\n",
        "  result = select_result.all()\n",
        "  for row in result:\n",
        "    print(row)\n",
        "\n",
        "def view_mod_table(metadates: db.Table) -> None:\n",
        "  select_result = conn.execute(metadates)\n",
        "  result = select_result.all()\n",
        "  for row in result:\n",
        "    print(row)"
      ],
      "metadata": {
        "id": "mNu_Ya2XnsNZ"
      },
      "execution_count": 228,
      "outputs": []
    },
    {
      "cell_type": "code",
      "source": [
        "engine = db.create_engine('sqlite:///hometask.db')"
      ],
      "metadata": {
        "id": "IyJqKE99JF1C"
      },
      "execution_count": 118,
      "outputs": []
    },
    {
      "cell_type": "code",
      "source": [
        "conn = engine.connect()"
      ],
      "metadata": {
        "id": "Ui_kjmJdJaLv"
      },
      "execution_count": 119,
      "outputs": []
    },
    {
      "cell_type": "code",
      "source": [
        "metadata = db.MetaData()"
      ],
      "metadata": {
        "id": "1Z5-Vq_KJbNy"
      },
      "execution_count": 120,
      "outputs": []
    },
    {
      "cell_type": "code",
      "source": [
        "student = db.Table(\n",
        "    'Student', metadata,\n",
        "    db.Column('id', db.Integer, primary_key=True),\n",
        "    db.Column('student_name', db.Text,),\n",
        ")"
      ],
      "metadata": {
        "id": "EQiE__fbJjez"
      },
      "execution_count": 121,
      "outputs": []
    },
    {
      "cell_type": "code",
      "source": [
        "student_in_class = db.Table(\n",
        "    'Student_in_class', metadata,\n",
        "    db.Column('id', db.Integer, primary_key=True),\n",
        "    db.Column('class_id', db.Integer,),\n",
        "    db.Column('student', db.Integer,),\n",
        ")"
      ],
      "metadata": {
        "id": "syo6IMKfNgz3"
      },
      "execution_count": 122,
      "outputs": []
    },
    {
      "cell_type": "code",
      "source": [
        "class_name = db.Table(\n",
        "    'Class', metadata,\n",
        "    db.Column('id', db.Integer, primary_key=True),\n",
        "    db.Column('name', db.Text,),\n",
        ")"
      ],
      "metadata": {
        "id": "jJBSUUPBQH4J"
      },
      "execution_count": 123,
      "outputs": []
    },
    {
      "cell_type": "code",
      "source": [
        "classroom = db.Table(\n",
        "    'Classroom', metadata,\n",
        "    db.Column('id', db.Integer, primary_key=True),\n",
        "    db.Column('class_id', db.Integer,),\n",
        "    db.Column('classroom', db.Integer,),\n",
        ")"
      ],
      "metadata": {
        "id": "-2wkiDiMNAkO"
      },
      "execution_count": 124,
      "outputs": []
    },
    {
      "cell_type": "code",
      "source": [
        "metadata.create_all(engine)"
      ],
      "metadata": {
        "id": "2nYOjVPZOdbX"
      },
      "execution_count": 125,
      "outputs": []
    },
    {
      "cell_type": "code",
      "source": [
        "insertion_student = student.insert().values([\n",
        "    {'student_name': 'Petr Petrov'},\n",
        "    {'student_name': 'Maria Ivanova'},\n",
        "    {'student_name': 'Ivan Sinichkin'},\n",
        "    {'student_name': 'Anastasia Gromova'},\n",
        "    {'student_name': 'Nikolai Pechkin'},\n",
        "    {'student_name': 'Polina Gagarina'},\n",
        "])"
      ],
      "metadata": {
        "id": "LNw6MTalWMeL"
      },
      "execution_count": 126,
      "outputs": []
    },
    {
      "cell_type": "code",
      "source": [
        "conn.execute(insertion_student)"
      ],
      "metadata": {
        "colab": {
          "base_uri": "https://localhost:8080/"
        },
        "id": "LWoMMYJgYV1a",
        "outputId": "552d444a-94b9-4418-ea33-ba3fff683b21"
      },
      "execution_count": 127,
      "outputs": [
        {
          "output_type": "execute_result",
          "data": {
            "text/plain": [
              "<sqlalchemy.engine.cursor.CursorResult at 0x793ff7618210>"
            ]
          },
          "metadata": {},
          "execution_count": 127
        }
      ]
    },
    {
      "cell_type": "code",
      "source": [
        "insertion_student_in_class = student_in_class.insert().values([\n",
        "    {'class_id': 1, 'student': 1},\n",
        "    {'class_id': 1, 'student': 2},\n",
        "    {'class_id': 2, 'student': 3},\n",
        "    {'class_id': 2, 'student': 4},\n",
        "    {'class_id': 3, 'student': 5},\n",
        "    {'class_id': 3, 'student': 6},\n",
        "])"
      ],
      "metadata": {
        "id": "vMF9qWp0WhII"
      },
      "execution_count": 130,
      "outputs": []
    },
    {
      "cell_type": "code",
      "source": [
        "conn.execute(insertion_student_in_class)"
      ],
      "metadata": {
        "colab": {
          "base_uri": "https://localhost:8080/"
        },
        "id": "XqBkPvrbYbuI",
        "outputId": "31b048b0-aea4-4861-fe92-3fbbc1fc3ff0"
      },
      "execution_count": 131,
      "outputs": [
        {
          "output_type": "execute_result",
          "data": {
            "text/plain": [
              "<sqlalchemy.engine.cursor.CursorResult at 0x793ff76181a0>"
            ]
          },
          "metadata": {},
          "execution_count": 131
        }
      ]
    },
    {
      "cell_type": "code",
      "source": [
        "insertion_class_name = class_name.insert().values([\n",
        "    {'name': '10 A'},\n",
        "    {'name': '8 B'},\n",
        "    {'name': '6 A'},\n",
        "])"
      ],
      "metadata": {
        "id": "lceem4txXlZc"
      },
      "execution_count": 132,
      "outputs": []
    },
    {
      "cell_type": "code",
      "source": [
        "conn.execute(insertion_class_name)"
      ],
      "metadata": {
        "colab": {
          "base_uri": "https://localhost:8080/"
        },
        "id": "fhCxcMifYeIe",
        "outputId": "fe5285c2-2ee9-43e2-f015-467088e038fd"
      },
      "execution_count": 133,
      "outputs": [
        {
          "output_type": "execute_result",
          "data": {
            "text/plain": [
              "<sqlalchemy.engine.cursor.CursorResult at 0x793ff76183d0>"
            ]
          },
          "metadata": {},
          "execution_count": 133
        }
      ]
    },
    {
      "cell_type": "code",
      "source": [
        "insertion_classroom = classroom.insert().values([\n",
        "    {'class_id': 1, 'classroom': 101},\n",
        "    {'class_id': 2, 'classroom': 202},\n",
        "    {'class_id': 3, 'classroom': 303},\n",
        "])"
      ],
      "metadata": {
        "id": "HGVTjX7dX82I"
      },
      "execution_count": 134,
      "outputs": []
    },
    {
      "cell_type": "code",
      "source": [
        "conn.execute(insertion_classroom)"
      ],
      "metadata": {
        "colab": {
          "base_uri": "https://localhost:8080/"
        },
        "id": "FiUjEMp4YoI8",
        "outputId": "1a9bcfaa-5461-4487-e42c-67b4e1987364"
      },
      "execution_count": 135,
      "outputs": [
        {
          "output_type": "execute_result",
          "data": {
            "text/plain": [
              "<sqlalchemy.engine.cursor.CursorResult at 0x793ff76186e0>"
            ]
          },
          "metadata": {},
          "execution_count": 135
        }
      ]
    },
    {
      "cell_type": "code",
      "source": [
        "inspector()"
      ],
      "metadata": {
        "colab": {
          "base_uri": "https://localhost:8080/"
        },
        "id": "FS8UzHzGo8XX",
        "outputId": "c04d34b7-0bb6-4a02-be3d-9d3d26888b06"
      },
      "execution_count": 136,
      "outputs": [
        {
          "output_type": "stream",
          "name": "stdout",
          "text": [
            "['Class', 'Classroom', 'Student', 'Student_in_class']\n",
            "Для просмотра таблицы, введите view_table(table_name).\n",
            "Например для 'Classroom' будет view_table(classroom).\n"
          ]
        }
      ]
    },
    {
      "cell_type": "code",
      "source": [
        "view_table(student)"
      ],
      "metadata": {
        "colab": {
          "base_uri": "https://localhost:8080/"
        },
        "id": "0nW7v_QdtxUh",
        "outputId": "c54010b6-4d55-4c94-ee11-80ad2d00f04a"
      },
      "execution_count": 137,
      "outputs": [
        {
          "output_type": "stream",
          "name": "stdout",
          "text": [
            "(1, 'Petr Petrov')\n",
            "(2, 'Maria Ivanova')\n",
            "(3, 'Ivan Sinichkin')\n",
            "(4, 'Anastasia Gromova')\n",
            "(5, 'Nikolai Pechkin')\n",
            "(6, 'Polina Gagarina')\n"
          ]
        }
      ]
    },
    {
      "cell_type": "code",
      "source": [
        "left_join_query = (                           # OUTER LEFT JOIN (OUTER JOIN)\n",
        "    student\n",
        "    .join(student_in_class, student.c.id == student_in_class.c.student, isouter=True)\n",
        "    .join(class_name, student_in_class.c.class_id == class_name.c.id, isouter=True)\n",
        "    .join(classroom, class_name.c.id == classroom.c.class_id, isouter=True)\n",
        ")\n",
        "view_table(left_join_query)"
      ],
      "metadata": {
        "colab": {
          "base_uri": "https://localhost:8080/"
        },
        "id": "YVL10r3XxT6z",
        "outputId": "4a06e00c-c852-4364-b050-d76cb24b556b"
      },
      "execution_count": 155,
      "outputs": [
        {
          "output_type": "stream",
          "name": "stdout",
          "text": [
            "(1, 'Petr Petrov', 1, 1, 1, 1, '10 A', 1, 1, 101)\n",
            "(2, 'Maria Ivanova', 2, 1, 2, 1, '10 A', 1, 1, 101)\n",
            "(3, 'Ivan Sinichkin', 3, 2, 3, 2, '8 B', 2, 2, 202)\n",
            "(4, 'Anastasia Gromova', 4, 2, 4, 2, '8 B', 2, 2, 202)\n",
            "(5, 'Nikolai Pechkin', 5, 3, 5, 3, '6 A', 3, 3, 303)\n",
            "(6, 'Polina Gagarina', 6, 3, 6, 3, '6 A', 3, 3, 303)\n"
          ]
        }
      ]
    },
    {
      "cell_type": "code",
      "source": [
        "inner_join_query = (                      # INNER LEFT JOIN (JOIN)\n",
        "    student\n",
        "    .join(student_in_class, student.c.id == student_in_class.c.student) # isouter=False (по умол.)\n",
        "    .join(class_name, student_in_class.c.class_id == class_name.c.id) # isouter=False (по умол.)\n",
        "    .join(classroom, class_name.c.id == classroom.c.class_id) # isouter=False (по умол.)\n",
        ")\n",
        "view_table(inner_join_query)"
      ],
      "metadata": {
        "colab": {
          "base_uri": "https://localhost:8080/"
        },
        "id": "kvivn3qX-1U7",
        "outputId": "fd01073b-8374-4a88-a5a4-f5093eaddb56"
      },
      "execution_count": 200,
      "outputs": [
        {
          "output_type": "stream",
          "name": "stdout",
          "text": [
            "(1, 'Petr Petrov', 1, 1, 1, 1, '10 A', 1, 1, 101)\n",
            "(2, 'Maria Ivanova', 2, 1, 2, 1, '10 A', 1, 1, 101)\n",
            "(3, 'Ivan Sinichkin', 3, 2, 3, 2, '8 B', 2, 2, 202)\n",
            "(4, 'Anastasia Gromova', 4, 2, 4, 2, '8 B', 2, 2, 202)\n",
            "(5, 'Nikolai Pechkin', 5, 3, 5, 3, '6 A', 3, 3, 303)\n",
            "(6, 'Polina Gagarina', 6, 3, 6, 3, '6 A', 3, 3, 303)\n"
          ]
        }
      ]
    },
    {
      "cell_type": "code",
      "source": [
        "update_query = student_in_class.update().values(class_id=2).where(\n",
        "    student_in_class.c.student == db.select(                               # Подзапрос == db.select()\n",
        "        student.c.id).where(student.c.student_name == 'Polina Gagarina'\n",
        "    )\n",
        ")\n",
        "\n",
        "conn.execute(update_query)"
      ],
      "metadata": {
        "colab": {
          "base_uri": "https://localhost:8080/"
        },
        "id": "6Qz1L4OHCbev",
        "outputId": "59671cae-b5f8-4fb5-ddeb-f3ad8c297198"
      },
      "execution_count": 231,
      "outputs": [
        {
          "output_type": "stream",
          "name": "stderr",
          "text": [
            "<ipython-input-231-129652274f15>:2: SAWarning: implicitly coercing SELECT object to scalar subquery; please use the .scalar_subquery() method to produce a scalar subquery.\n",
            "  student_in_class.c.student == db.select(                               # Подзапрос == db.select()\n"
          ]
        },
        {
          "output_type": "execute_result",
          "data": {
            "text/plain": [
              "<sqlalchemy.engine.cursor.CursorResult at 0x793ff75e8830>"
            ]
          },
          "metadata": {},
          "execution_count": 231
        }
      ]
    },
    {
      "cell_type": "code",
      "source": [
        "update_query = student_in_class.update().values(class_id=None).where(\n",
        "    student_in_class.c.student == db.select(                               # Подзапрос == db.select()\n",
        "        student.c.id).where(student.c.student_name == 'Polina Gagarina'\n",
        "    )\n",
        ")\n",
        "\n",
        "conn.execute(update_query)"
      ],
      "metadata": {
        "colab": {
          "base_uri": "https://localhost:8080/"
        },
        "id": "aHn70SahEBgg",
        "outputId": "a90c2524-820c-48cb-e5c0-0914c8aaad4c"
      },
      "execution_count": 232,
      "outputs": [
        {
          "output_type": "stream",
          "name": "stderr",
          "text": [
            "<ipython-input-232-c39eca6c5fae>:2: SAWarning: implicitly coercing SELECT object to scalar subquery; please use the .scalar_subquery() method to produce a scalar subquery.\n",
            "  student_in_class.c.student == db.select(                               # Подзапрос == db.select()\n"
          ]
        },
        {
          "output_type": "execute_result",
          "data": {
            "text/plain": [
              "<sqlalchemy.engine.cursor.CursorResult at 0x793ff75e8ad0>"
            ]
          },
          "metadata": {},
          "execution_count": 232
        }
      ]
    },
    {
      "cell_type": "code",
      "source": [
        "view_table(inner_join_query)"
      ],
      "metadata": {
        "colab": {
          "base_uri": "https://localhost:8080/"
        },
        "id": "yH4JZdj4EFke",
        "outputId": "2224a457-9400-4fe9-aa84-2c8c49f2ea8f"
      },
      "execution_count": 233,
      "outputs": [
        {
          "output_type": "stream",
          "name": "stdout",
          "text": [
            "(1, 'Petr Petrov', 1, 1, 1, 1, '10 A', 1, 1, 101)\n",
            "(2, 'Maria Ivanova', 2, 1, 2, 1, '10 A', 1, 1, 101)\n",
            "(3, 'Ivan Sinichkin', 3, 2, 3, 2, '8 B', 2, 2, 202)\n",
            "(4, 'Anastasia Gromova', 4, 2, 4, 2, '8 B', 2, 2, 202)\n",
            "(5, 'Nikolai Pechkin', 5, 3, 5, 3, '6 A', 3, 3, 303)\n"
          ]
        }
      ]
    },
    {
      "cell_type": "code",
      "source": [
        "having_303 = db.select(inner_join_query).group_by(student.c.student_name).having(classroom.c.classroom == 303)\n",
        "\n",
        "view_mod_table(having_303)"
      ],
      "metadata": {
        "colab": {
          "base_uri": "https://localhost:8080/"
        },
        "id": "G69jqfaYTKEW",
        "outputId": "c80a8e56-4ed8-411b-a2f2-16323471f01d"
      },
      "execution_count": 243,
      "outputs": [
        {
          "output_type": "stream",
          "name": "stdout",
          "text": [
            "(5, 'Nikolai Pechkin', 5, 3, 5, 3, '6 A', 3, 3, 303)\n"
          ]
        }
      ]
    },
    {
      "cell_type": "code",
      "source": [
        "union_query = db.union(\n",
        "    db.select(class_name.c.name.label('classes')),\n",
        "    db.select(classroom.c.classroom.label('classes')),\n",
        ")\n",
        "\n",
        "view_mod_table(union_query)"
      ],
      "metadata": {
        "colab": {
          "base_uri": "https://localhost:8080/"
        },
        "id": "QgdqrC6tGl2f",
        "outputId": "4a6d1c89-7173-414d-8018-d7d37d3178b4"
      },
      "execution_count": 248,
      "outputs": [
        {
          "output_type": "stream",
          "name": "stdout",
          "text": [
            "(101,)\n",
            "(202,)\n",
            "(303,)\n",
            "('10 A',)\n",
            "('6 A',)\n",
            "('8 B',)\n"
          ]
        }
      ]
    }
  ]
}