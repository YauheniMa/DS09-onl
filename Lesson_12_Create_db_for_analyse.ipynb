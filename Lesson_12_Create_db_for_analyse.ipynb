{
  "cells": [
    {
      "cell_type": "code",
      "source": [
        "import pandas as pd\n",
        "import sqlalchemy as db\n",
        "from sqlalchemy import Table, Column, Integer, Float, String, Boolean, Text, MetaData, ForeignKey, select\n",
        "from sqlalchemy.orm import sessionmaker, Session\n",
        "from google.colab import drive\n",
        "\n",
        "\n",
        "drive.mount('/content/drive')\n",
        "\n",
        "\n",
        "class Global_Base:\n",
        "    def __init__(self, path):\n",
        "        self.df = pd.read_csv(path, encoding='ISO-8859-1')\n",
        "\n",
        "\n",
        "def inspector() -> None:\n",
        "  inspector = db.inspect(engine)\n",
        "  tables = inspector.get_table_names()\n",
        "  print(tables)\n",
        "  print(\"Для просмотра таблицы, введите view_table(table_name).\")\n",
        "  print(\"Например для 'Classroom' будет view_table(classroom).\")\n",
        "\n",
        "def view_table(metadates: Table) -> None:\n",
        "  try:\n",
        "    select_all_query = db.select(metadates)\n",
        "    select_result = session.execute(select_all_query)\n",
        "    result = select_result.all()\n",
        "    for row in result:\n",
        "      print(row)\n",
        "  except:\n",
        "    print(\"Для просмотра таблицы, введите view_table(table_name).\")\n",
        "    print(\"Например для 'Classroom' будет view_table(classroom).\")\n",
        "\n",
        "def view_mod_table(metadates: Table) -> None:\n",
        "  try:\n",
        "    select_result = session.execute(metadates)\n",
        "    result = select_result.all()\n",
        "    for row in result:\n",
        "      print(row)\n",
        "  except:\n",
        "    print(\"Для просмотра таблицы, введите view_table(table_name).\")\n",
        "    print(\"Например для 'Classroom' будет view_table(classroom).\")\n",
        "\n",
        "def fetch_as_dict(session, query: select) -> list[dict]:\n",
        "    result = session.execute(query)\n",
        "    return [dict(row) for row in result.mappings().all()]"
      ],
      "metadata": {
        "id": "5mfuP7bPkbLb",
        "colab": {
          "base_uri": "https://localhost:8080/"
        },
        "outputId": "8900d4fb-3520-4a13-8930-519d9207be6a"
      },
      "id": "5mfuP7bPkbLb",
      "execution_count": 1,
      "outputs": [
        {
          "output_type": "stream",
          "name": "stdout",
          "text": [
            "Drive already mounted at /content/drive; to attempt to forcibly remount, call drive.mount(\"/content/drive\", force_remount=True).\n"
          ]
        }
      ]
    },
    {
      "cell_type": "code",
      "source": [
        "tdset = Global_Base('/content/drive/MyDrive/GTDb.csv')"
      ],
      "metadata": {
        "id": "JCHT8Aj2mF7j",
        "colab": {
          "base_uri": "https://localhost:8080/"
        },
        "outputId": "b6ed09ac-ffb6-45be-a11f-ffc6dca2e768"
      },
      "id": "JCHT8Aj2mF7j",
      "execution_count": 2,
      "outputs": [
        {
          "output_type": "stream",
          "name": "stderr",
          "text": [
            "<ipython-input-1-740c52c972a3>:13: DtypeWarning: Columns (4,6,31,33,61,62,63,76,79,90,92,94,96,114,115,121) have mixed types. Specify dtype option on import or set low_memory=False.\n",
            "  self.df = pd.read_csv(path, encoding='ISO-8859-1')\n"
          ]
        }
      ]
    },
    {
      "cell_type": "code",
      "source": [
        "tdset.df.head()"
      ],
      "metadata": {
        "id": "mcBLv3IPocEy",
        "colab": {
          "base_uri": "https://localhost:8080/",
          "height": 273
        },
        "outputId": "35ce39fc-f987-48e0-d196-6105887e1421"
      },
      "id": "mcBLv3IPocEy",
      "execution_count": 3,
      "outputs": [
        {
          "output_type": "execute_result",
          "data": {
            "text/plain": [
              "        eventid  iyear  imonth  iday approxdate  extended resolution  country  \\\n",
              "0  197000000001   1970       7     2        NaN         0        NaN       58   \n",
              "1  197000000002   1970       0     0        NaN         0        NaN      130   \n",
              "2  197001000001   1970       1     0        NaN         0        NaN      160   \n",
              "3  197001000002   1970       1     0        NaN         0        NaN       78   \n",
              "4  197001000003   1970       1     0        NaN         0        NaN      101   \n",
              "\n",
              "          country_txt  region  ... addnotes scite1 scite2  scite3  dbsource  \\\n",
              "0  Dominican Republic       2  ...      NaN    NaN    NaN     NaN      PGIS   \n",
              "1              Mexico       1  ...      NaN    NaN    NaN     NaN      PGIS   \n",
              "2         Philippines       5  ...      NaN    NaN    NaN     NaN      PGIS   \n",
              "3              Greece       8  ...      NaN    NaN    NaN     NaN      PGIS   \n",
              "4               Japan       4  ...      NaN    NaN    NaN     NaN      PGIS   \n",
              "\n",
              "   INT_LOG  INT_IDEO INT_MISC INT_ANY  related  \n",
              "0        0         0        0       0      NaN  \n",
              "1        0         1        1       1      NaN  \n",
              "2       -9        -9        1       1      NaN  \n",
              "3       -9        -9        1       1      NaN  \n",
              "4       -9        -9        1       1      NaN  \n",
              "\n",
              "[5 rows x 135 columns]"
            ],
            "text/html": [
              "\n",
              "  <div id=\"df-0397eb87-9d75-4755-928d-a8f123692a78\" class=\"colab-df-container\">\n",
              "    <div>\n",
              "<style scoped>\n",
              "    .dataframe tbody tr th:only-of-type {\n",
              "        vertical-align: middle;\n",
              "    }\n",
              "\n",
              "    .dataframe tbody tr th {\n",
              "        vertical-align: top;\n",
              "    }\n",
              "\n",
              "    .dataframe thead th {\n",
              "        text-align: right;\n",
              "    }\n",
              "</style>\n",
              "<table border=\"1\" class=\"dataframe\">\n",
              "  <thead>\n",
              "    <tr style=\"text-align: right;\">\n",
              "      <th></th>\n",
              "      <th>eventid</th>\n",
              "      <th>iyear</th>\n",
              "      <th>imonth</th>\n",
              "      <th>iday</th>\n",
              "      <th>approxdate</th>\n",
              "      <th>extended</th>\n",
              "      <th>resolution</th>\n",
              "      <th>country</th>\n",
              "      <th>country_txt</th>\n",
              "      <th>region</th>\n",
              "      <th>...</th>\n",
              "      <th>addnotes</th>\n",
              "      <th>scite1</th>\n",
              "      <th>scite2</th>\n",
              "      <th>scite3</th>\n",
              "      <th>dbsource</th>\n",
              "      <th>INT_LOG</th>\n",
              "      <th>INT_IDEO</th>\n",
              "      <th>INT_MISC</th>\n",
              "      <th>INT_ANY</th>\n",
              "      <th>related</th>\n",
              "    </tr>\n",
              "  </thead>\n",
              "  <tbody>\n",
              "    <tr>\n",
              "      <th>0</th>\n",
              "      <td>197000000001</td>\n",
              "      <td>1970</td>\n",
              "      <td>7</td>\n",
              "      <td>2</td>\n",
              "      <td>NaN</td>\n",
              "      <td>0</td>\n",
              "      <td>NaN</td>\n",
              "      <td>58</td>\n",
              "      <td>Dominican Republic</td>\n",
              "      <td>2</td>\n",
              "      <td>...</td>\n",
              "      <td>NaN</td>\n",
              "      <td>NaN</td>\n",
              "      <td>NaN</td>\n",
              "      <td>NaN</td>\n",
              "      <td>PGIS</td>\n",
              "      <td>0</td>\n",
              "      <td>0</td>\n",
              "      <td>0</td>\n",
              "      <td>0</td>\n",
              "      <td>NaN</td>\n",
              "    </tr>\n",
              "    <tr>\n",
              "      <th>1</th>\n",
              "      <td>197000000002</td>\n",
              "      <td>1970</td>\n",
              "      <td>0</td>\n",
              "      <td>0</td>\n",
              "      <td>NaN</td>\n",
              "      <td>0</td>\n",
              "      <td>NaN</td>\n",
              "      <td>130</td>\n",
              "      <td>Mexico</td>\n",
              "      <td>1</td>\n",
              "      <td>...</td>\n",
              "      <td>NaN</td>\n",
              "      <td>NaN</td>\n",
              "      <td>NaN</td>\n",
              "      <td>NaN</td>\n",
              "      <td>PGIS</td>\n",
              "      <td>0</td>\n",
              "      <td>1</td>\n",
              "      <td>1</td>\n",
              "      <td>1</td>\n",
              "      <td>NaN</td>\n",
              "    </tr>\n",
              "    <tr>\n",
              "      <th>2</th>\n",
              "      <td>197001000001</td>\n",
              "      <td>1970</td>\n",
              "      <td>1</td>\n",
              "      <td>0</td>\n",
              "      <td>NaN</td>\n",
              "      <td>0</td>\n",
              "      <td>NaN</td>\n",
              "      <td>160</td>\n",
              "      <td>Philippines</td>\n",
              "      <td>5</td>\n",
              "      <td>...</td>\n",
              "      <td>NaN</td>\n",
              "      <td>NaN</td>\n",
              "      <td>NaN</td>\n",
              "      <td>NaN</td>\n",
              "      <td>PGIS</td>\n",
              "      <td>-9</td>\n",
              "      <td>-9</td>\n",
              "      <td>1</td>\n",
              "      <td>1</td>\n",
              "      <td>NaN</td>\n",
              "    </tr>\n",
              "    <tr>\n",
              "      <th>3</th>\n",
              "      <td>197001000002</td>\n",
              "      <td>1970</td>\n",
              "      <td>1</td>\n",
              "      <td>0</td>\n",
              "      <td>NaN</td>\n",
              "      <td>0</td>\n",
              "      <td>NaN</td>\n",
              "      <td>78</td>\n",
              "      <td>Greece</td>\n",
              "      <td>8</td>\n",
              "      <td>...</td>\n",
              "      <td>NaN</td>\n",
              "      <td>NaN</td>\n",
              "      <td>NaN</td>\n",
              "      <td>NaN</td>\n",
              "      <td>PGIS</td>\n",
              "      <td>-9</td>\n",
              "      <td>-9</td>\n",
              "      <td>1</td>\n",
              "      <td>1</td>\n",
              "      <td>NaN</td>\n",
              "    </tr>\n",
              "    <tr>\n",
              "      <th>4</th>\n",
              "      <td>197001000003</td>\n",
              "      <td>1970</td>\n",
              "      <td>1</td>\n",
              "      <td>0</td>\n",
              "      <td>NaN</td>\n",
              "      <td>0</td>\n",
              "      <td>NaN</td>\n",
              "      <td>101</td>\n",
              "      <td>Japan</td>\n",
              "      <td>4</td>\n",
              "      <td>...</td>\n",
              "      <td>NaN</td>\n",
              "      <td>NaN</td>\n",
              "      <td>NaN</td>\n",
              "      <td>NaN</td>\n",
              "      <td>PGIS</td>\n",
              "      <td>-9</td>\n",
              "      <td>-9</td>\n",
              "      <td>1</td>\n",
              "      <td>1</td>\n",
              "      <td>NaN</td>\n",
              "    </tr>\n",
              "  </tbody>\n",
              "</table>\n",
              "<p>5 rows × 135 columns</p>\n",
              "</div>\n",
              "    <div class=\"colab-df-buttons\">\n",
              "\n",
              "  <div class=\"colab-df-container\">\n",
              "    <button class=\"colab-df-convert\" onclick=\"convertToInteractive('df-0397eb87-9d75-4755-928d-a8f123692a78')\"\n",
              "            title=\"Convert this dataframe to an interactive table.\"\n",
              "            style=\"display:none;\">\n",
              "\n",
              "  <svg xmlns=\"http://www.w3.org/2000/svg\" height=\"24px\" viewBox=\"0 -960 960 960\">\n",
              "    <path d=\"M120-120v-720h720v720H120Zm60-500h600v-160H180v160Zm220 220h160v-160H400v160Zm0 220h160v-160H400v160ZM180-400h160v-160H180v160Zm440 0h160v-160H620v160ZM180-180h160v-160H180v160Zm440 0h160v-160H620v160Z\"/>\n",
              "  </svg>\n",
              "    </button>\n",
              "\n",
              "  <style>\n",
              "    .colab-df-container {\n",
              "      display:flex;\n",
              "      gap: 12px;\n",
              "    }\n",
              "\n",
              "    .colab-df-convert {\n",
              "      background-color: #E8F0FE;\n",
              "      border: none;\n",
              "      border-radius: 50%;\n",
              "      cursor: pointer;\n",
              "      display: none;\n",
              "      fill: #1967D2;\n",
              "      height: 32px;\n",
              "      padding: 0 0 0 0;\n",
              "      width: 32px;\n",
              "    }\n",
              "\n",
              "    .colab-df-convert:hover {\n",
              "      background-color: #E2EBFA;\n",
              "      box-shadow: 0px 1px 2px rgba(60, 64, 67, 0.3), 0px 1px 3px 1px rgba(60, 64, 67, 0.15);\n",
              "      fill: #174EA6;\n",
              "    }\n",
              "\n",
              "    .colab-df-buttons div {\n",
              "      margin-bottom: 4px;\n",
              "    }\n",
              "\n",
              "    [theme=dark] .colab-df-convert {\n",
              "      background-color: #3B4455;\n",
              "      fill: #D2E3FC;\n",
              "    }\n",
              "\n",
              "    [theme=dark] .colab-df-convert:hover {\n",
              "      background-color: #434B5C;\n",
              "      box-shadow: 0px 1px 3px 1px rgba(0, 0, 0, 0.15);\n",
              "      filter: drop-shadow(0px 1px 2px rgba(0, 0, 0, 0.3));\n",
              "      fill: #FFFFFF;\n",
              "    }\n",
              "  </style>\n",
              "\n",
              "    <script>\n",
              "      const buttonEl =\n",
              "        document.querySelector('#df-0397eb87-9d75-4755-928d-a8f123692a78 button.colab-df-convert');\n",
              "      buttonEl.style.display =\n",
              "        google.colab.kernel.accessAllowed ? 'block' : 'none';\n",
              "\n",
              "      async function convertToInteractive(key) {\n",
              "        const element = document.querySelector('#df-0397eb87-9d75-4755-928d-a8f123692a78');\n",
              "        const dataTable =\n",
              "          await google.colab.kernel.invokeFunction('convertToInteractive',\n",
              "                                                    [key], {});\n",
              "        if (!dataTable) return;\n",
              "\n",
              "        const docLinkHtml = 'Like what you see? Visit the ' +\n",
              "          '<a target=\"_blank\" href=https://colab.research.google.com/notebooks/data_table.ipynb>data table notebook</a>'\n",
              "          + ' to learn more about interactive tables.';\n",
              "        element.innerHTML = '';\n",
              "        dataTable['output_type'] = 'display_data';\n",
              "        await google.colab.output.renderOutput(dataTable, element);\n",
              "        const docLink = document.createElement('div');\n",
              "        docLink.innerHTML = docLinkHtml;\n",
              "        element.appendChild(docLink);\n",
              "      }\n",
              "    </script>\n",
              "  </div>\n",
              "\n",
              "\n",
              "<div id=\"df-4cb4f195-79d1-472b-bd32-49fde7435b8b\">\n",
              "  <button class=\"colab-df-quickchart\" onclick=\"quickchart('df-4cb4f195-79d1-472b-bd32-49fde7435b8b')\"\n",
              "            title=\"Suggest charts\"\n",
              "            style=\"display:none;\">\n",
              "\n",
              "<svg xmlns=\"http://www.w3.org/2000/svg\" height=\"24px\"viewBox=\"0 0 24 24\"\n",
              "     width=\"24px\">\n",
              "    <g>\n",
              "        <path d=\"M19 3H5c-1.1 0-2 .9-2 2v14c0 1.1.9 2 2 2h14c1.1 0 2-.9 2-2V5c0-1.1-.9-2-2-2zM9 17H7v-7h2v7zm4 0h-2V7h2v10zm4 0h-2v-4h2v4z\"/>\n",
              "    </g>\n",
              "</svg>\n",
              "  </button>\n",
              "\n",
              "<style>\n",
              "  .colab-df-quickchart {\n",
              "      --bg-color: #E8F0FE;\n",
              "      --fill-color: #1967D2;\n",
              "      --hover-bg-color: #E2EBFA;\n",
              "      --hover-fill-color: #174EA6;\n",
              "      --disabled-fill-color: #AAA;\n",
              "      --disabled-bg-color: #DDD;\n",
              "  }\n",
              "\n",
              "  [theme=dark] .colab-df-quickchart {\n",
              "      --bg-color: #3B4455;\n",
              "      --fill-color: #D2E3FC;\n",
              "      --hover-bg-color: #434B5C;\n",
              "      --hover-fill-color: #FFFFFF;\n",
              "      --disabled-bg-color: #3B4455;\n",
              "      --disabled-fill-color: #666;\n",
              "  }\n",
              "\n",
              "  .colab-df-quickchart {\n",
              "    background-color: var(--bg-color);\n",
              "    border: none;\n",
              "    border-radius: 50%;\n",
              "    cursor: pointer;\n",
              "    display: none;\n",
              "    fill: var(--fill-color);\n",
              "    height: 32px;\n",
              "    padding: 0;\n",
              "    width: 32px;\n",
              "  }\n",
              "\n",
              "  .colab-df-quickchart:hover {\n",
              "    background-color: var(--hover-bg-color);\n",
              "    box-shadow: 0 1px 2px rgba(60, 64, 67, 0.3), 0 1px 3px 1px rgba(60, 64, 67, 0.15);\n",
              "    fill: var(--button-hover-fill-color);\n",
              "  }\n",
              "\n",
              "  .colab-df-quickchart-complete:disabled,\n",
              "  .colab-df-quickchart-complete:disabled:hover {\n",
              "    background-color: var(--disabled-bg-color);\n",
              "    fill: var(--disabled-fill-color);\n",
              "    box-shadow: none;\n",
              "  }\n",
              "\n",
              "  .colab-df-spinner {\n",
              "    border: 2px solid var(--fill-color);\n",
              "    border-color: transparent;\n",
              "    border-bottom-color: var(--fill-color);\n",
              "    animation:\n",
              "      spin 1s steps(1) infinite;\n",
              "  }\n",
              "\n",
              "  @keyframes spin {\n",
              "    0% {\n",
              "      border-color: transparent;\n",
              "      border-bottom-color: var(--fill-color);\n",
              "      border-left-color: var(--fill-color);\n",
              "    }\n",
              "    20% {\n",
              "      border-color: transparent;\n",
              "      border-left-color: var(--fill-color);\n",
              "      border-top-color: var(--fill-color);\n",
              "    }\n",
              "    30% {\n",
              "      border-color: transparent;\n",
              "      border-left-color: var(--fill-color);\n",
              "      border-top-color: var(--fill-color);\n",
              "      border-right-color: var(--fill-color);\n",
              "    }\n",
              "    40% {\n",
              "      border-color: transparent;\n",
              "      border-right-color: var(--fill-color);\n",
              "      border-top-color: var(--fill-color);\n",
              "    }\n",
              "    60% {\n",
              "      border-color: transparent;\n",
              "      border-right-color: var(--fill-color);\n",
              "    }\n",
              "    80% {\n",
              "      border-color: transparent;\n",
              "      border-right-color: var(--fill-color);\n",
              "      border-bottom-color: var(--fill-color);\n",
              "    }\n",
              "    90% {\n",
              "      border-color: transparent;\n",
              "      border-bottom-color: var(--fill-color);\n",
              "    }\n",
              "  }\n",
              "</style>\n",
              "\n",
              "  <script>\n",
              "    async function quickchart(key) {\n",
              "      const quickchartButtonEl =\n",
              "        document.querySelector('#' + key + ' button');\n",
              "      quickchartButtonEl.disabled = true;  // To prevent multiple clicks.\n",
              "      quickchartButtonEl.classList.add('colab-df-spinner');\n",
              "      try {\n",
              "        const charts = await google.colab.kernel.invokeFunction(\n",
              "            'suggestCharts', [key], {});\n",
              "      } catch (error) {\n",
              "        console.error('Error during call to suggestCharts:', error);\n",
              "      }\n",
              "      quickchartButtonEl.classList.remove('colab-df-spinner');\n",
              "      quickchartButtonEl.classList.add('colab-df-quickchart-complete');\n",
              "    }\n",
              "    (() => {\n",
              "      let quickchartButtonEl =\n",
              "        document.querySelector('#df-4cb4f195-79d1-472b-bd32-49fde7435b8b button');\n",
              "      quickchartButtonEl.style.display =\n",
              "        google.colab.kernel.accessAllowed ? 'block' : 'none';\n",
              "    })();\n",
              "  </script>\n",
              "</div>\n",
              "    </div>\n",
              "  </div>\n"
            ],
            "application/vnd.google.colaboratory.intrinsic+json": {
              "type": "dataframe"
            }
          },
          "metadata": {},
          "execution_count": 3
        }
      ]
    },
    {
      "cell_type": "code",
      "source": [
        "tdset.df = tdset.df.rename(columns={'property': 'properties'})\n",
        "tdset.df.loc[130233, 'multiple'] = 0\n",
        "tdset.df['multiple'] = tdset.df['multiple'].astype(int)"
      ],
      "metadata": {
        "id": "wYMb-kml_EP1"
      },
      "id": "wYMb-kml_EP1",
      "execution_count": 4,
      "outputs": []
    },
    {
      "cell_type": "code",
      "source": [
        "engine = db.create_engine('sqlite:///GTDb1_1.db')"
      ],
      "metadata": {
        "id": "oFPcYvLwmIlM"
      },
      "id": "oFPcYvLwmIlM",
      "execution_count": 5,
      "outputs": []
    },
    {
      "cell_type": "code",
      "source": [
        "metadata = MetaData()\n",
        "Session = sessionmaker(bind=engine)\n",
        "session = Session()"
      ],
      "metadata": {
        "id": "imh_AT70koYg"
      },
      "id": "imh_AT70koYg",
      "execution_count": 6,
      "outputs": []
    },
    {
      "cell_type": "code",
      "source": [
        "region = Table(\n",
        "    'Region', metadata,\n",
        "    Column('id', Integer, primary_key=True),\n",
        "    Column('region_txt', String),\n",
        ")"
      ],
      "metadata": {
        "id": "wbmQOSPfnVjW"
      },
      "id": "wbmQOSPfnVjW",
      "execution_count": 7,
      "outputs": []
    },
    {
      "cell_type": "code",
      "source": [
        "country = Table(\n",
        "    'Country', metadata,\n",
        "    Column('id', Integer, primary_key=True),\n",
        "    Column('country_txt', String),\n",
        "    Column('region_id', Integer, ForeignKey('Region.id')),\n",
        ")"
      ],
      "metadata": {
        "id": "ZvyZgoE8kbw8"
      },
      "id": "ZvyZgoE8kbw8",
      "execution_count": 8,
      "outputs": []
    },
    {
      "cell_type": "code",
      "source": [
        "city = Table(\n",
        "    'City', metadata,\n",
        "    Column('id', Integer, primary_key=True),\n",
        "    Column('city', String),\n",
        "    Column('country_id', Integer, ForeignKey('Country.id')),\n",
        ")"
      ],
      "metadata": {
        "id": "VMigKAJD2Ibr"
      },
      "id": "VMigKAJD2Ibr",
      "execution_count": 9,
      "outputs": []
    },
    {
      "cell_type": "code",
      "source": [
        "type_attack = Table(\n",
        "    'Type_Attack', metadata,\n",
        "    Column('id', Integer, primary_key=True),\n",
        "    Column('attacktype1_txt', String),\n",
        ")"
      ],
      "metadata": {
        "id": "JMhgi0zP2SQr"
      },
      "id": "JMhgi0zP2SQr",
      "execution_count": 10,
      "outputs": []
    },
    {
      "cell_type": "code",
      "source": [
        "corp = Table(\n",
        "    'Corp', metadata,\n",
        "    Column('id', Integer, primary_key=True),\n",
        "    Column('corp1', String),\n",
        ")"
      ],
      "metadata": {
        "id": "WQeK-y-C2kBR"
      },
      "id": "WQeK-y-C2kBR",
      "execution_count": 11,
      "outputs": []
    },
    {
      "cell_type": "code",
      "source": [
        "natlty = Table(\n",
        "    'Natlty', metadata,\n",
        "    Column('id', Integer, primary_key=True),\n",
        "    Column('natlty1_txt', String),\n",
        ")"
      ],
      "metadata": {
        "id": "xc5yjoNh2ss_"
      },
      "id": "xc5yjoNh2ss_",
      "execution_count": 12,
      "outputs": []
    },
    {
      "cell_type": "code",
      "source": [
        "weapon_type = Table(\n",
        "    'Weapon_Type', metadata,\n",
        "    Column('id', Integer, primary_key=True),\n",
        "    Column('weaptype1_txt', String),\n",
        ")"
      ],
      "metadata": {
        "id": "CWAMiFVO2zos"
      },
      "id": "CWAMiFVO2zos",
      "execution_count": 13,
      "outputs": []
    },
    {
      "cell_type": "code",
      "source": [
        "weapon_sub_type = Table(\n",
        "    'Weapon_Sub_Type', metadata,\n",
        "    Column('id', Integer, primary_key=True),\n",
        "    Column('weapsubtype1_txt', String),\n",
        "    Column('weapon_type_id', Integer, ForeignKey('Weapon_Type.id')),\n",
        ")"
      ],
      "metadata": {
        "id": "2zPJnfIy29wx"
      },
      "id": "2zPJnfIy29wx",
      "execution_count": 14,
      "outputs": []
    },
    {
      "cell_type": "code",
      "source": [
        "propextent = Table(\n",
        "    'Propextent', metadata,\n",
        "    Column('id', Integer, primary_key=True),\n",
        "    Column('propextent_txt', String),\n",
        ")"
      ],
      "metadata": {
        "id": "P9ncjsjC3Y1M"
      },
      "id": "P9ncjsjC3Y1M",
      "execution_count": 15,
      "outputs": []
    },
    {
      "cell_type": "code",
      "source": [
        "claimmode = Table(\n",
        "    'Claimmode', metadata,\n",
        "    Column('id', Integer, primary_key=True),\n",
        "    Column('claimmode_txt', String),\n",
        ")"
      ],
      "metadata": {
        "id": "9d2seOe13ngL"
      },
      "id": "9d2seOe13ngL",
      "execution_count": 16,
      "outputs": []
    },
    {
      "cell_type": "code",
      "source": [
        "target = Table(\n",
        "    'Target', metadata,\n",
        "    Column('id', Integer, primary_key=True),\n",
        "    Column('target1', Text),\n",
        ")"
      ],
      "metadata": {
        "id": "jS6emBjR3wug"
      },
      "id": "jS6emBjR3wug",
      "execution_count": 17,
      "outputs": []
    },
    {
      "cell_type": "code",
      "source": [
        "target_type = Table(\n",
        "    'Target_Type', metadata,\n",
        "    Column('id', Integer, primary_key=True),\n",
        "    Column('targtype1_txt', String),\n",
        ")"
      ],
      "metadata": {
        "id": "wp7kTdaF3-L2"
      },
      "id": "wp7kTdaF3-L2",
      "execution_count": 18,
      "outputs": []
    },
    {
      "cell_type": "code",
      "source": [
        "target_sub_type = Table(\n",
        "    'Target_Sub_Type', metadata,\n",
        "    Column('id', Integer, primary_key=True),\n",
        "    Column('targsubtype1_txt', String),\n",
        "    Column('target_type_id', Integer, ForeignKey('Target_Type.id')),\n",
        ")"
      ],
      "metadata": {
        "id": "-AMwNJSS4IVq"
      },
      "id": "-AMwNJSS4IVq",
      "execution_count": 19,
      "outputs": []
    },
    {
      "cell_type": "code",
      "source": [
        "type_incident = Table(\n",
        "    'Type_Incident', metadata,\n",
        "    Column('id', Integer, primary_key=True),\n",
        "    Column('alternative_txt', String),\n",
        ")"
      ],
      "metadata": {
        "id": "UPKxPeqr42QI"
      },
      "id": "UPKxPeqr42QI",
      "execution_count": 20,
      "outputs": []
    },
    {
      "cell_type": "code",
      "source": [
        "other_data = Table(\n",
        "    'Other_Data', metadata,\n",
        "    Column('id', Integer, primary_key=True),\n",
        "    Column('addnotes', Text),\n",
        "    Column('scite1', Text),\n",
        "    Column('scite2', Text),\n",
        "    Column('scite3', Text),\n",
        ")"
      ],
      "metadata": {
        "id": "lIme1hhP5v7H"
      },
      "id": "lIme1hhP5v7H",
      "execution_count": 21,
      "outputs": []
    },
    {
      "cell_type": "code",
      "source": [
        "international_data = Table(\n",
        "    'International_Data', metadata,\n",
        "    Column('id', Integer, primary_key=True),\n",
        "    Column('INT_LOG', Integer),\n",
        "    Column('INT_IDEO', Integer),\n",
        "    Column('INT_MISC', Integer),\n",
        "    Column('INT_ANY', Integer),\n",
        ")"
      ],
      "metadata": {
        "id": "9MvjLc9Y6YsY"
      },
      "id": "9MvjLc9Y6YsY",
      "execution_count": 22,
      "outputs": []
    },
    {
      "cell_type": "code",
      "source": [
        "placespec = Table(\n",
        "    'PlaceSpec', metadata,\n",
        "    Column('id', Integer, primary_key=True),\n",
        "    Column('latitude', Float),\n",
        "    Column('longitude', Float),\n",
        "    Column('specificity', Integer),\n",
        "    Column('vicinity', Integer),\n",
        "    Column('location', Text),\n",
        "    Column('summary', Text),\n",
        "    Column('motive', Text),\n",
        ")"
      ],
      "metadata": {
        "id": "Zdu1xhqw7Nmk"
      },
      "id": "Zdu1xhqw7Nmk",
      "execution_count": 23,
      "outputs": []
    },
    {
      "cell_type": "code",
      "source": [
        "hostages = Table(\n",
        "    'Hostages', metadata,\n",
        "    Column('id', Integer, primary_key=True),\n",
        "    Column('ishostkid', Integer),\n",
        "    Column('nhostkid', Integer),\n",
        "    Column('nhostkidus', Integer),\n",
        "    Column('ndays', Integer),\n",
        "    Column('ransom', Integer),\n",
        "    Column('ransomamt', Integer),\n",
        "    Column('ransompaid', Integer),\n",
        "    Column('hostkidoutcome_txt', String),\n",
        ")"
      ],
      "metadata": {
        "id": "1Bv23kqB8Ad0"
      },
      "id": "1Bv23kqB8Ad0",
      "execution_count": 24,
      "outputs": []
    },
    {
      "cell_type": "code",
      "source": [
        "attackspec = Table(\n",
        "    'AttackSpec', metadata,\n",
        "    Column('id', Integer, primary_key=True),\n",
        "    Column('crit1', Boolean),\n",
        "    Column('crit2', Boolean),\n",
        "    Column('crit3', Boolean),\n",
        "    Column('doubtterr', Integer),\n",
        "    Column('multiple', Boolean),\n",
        "    Column('success', Boolean),\n",
        "    Column('suicide', Boolean),\n",
        ")"
      ],
      "metadata": {
        "id": "KxKx272N803a"
      },
      "id": "KxKx272N803a",
      "execution_count": 25,
      "outputs": []
    },
    {
      "cell_type": "code",
      "source": [
        "victims = Table(\n",
        "    'Victims', metadata,\n",
        "    Column('id', Integer, primary_key=True),\n",
        "    Column('nkill', Integer),\n",
        "    Column('nkillus', Integer),\n",
        "    Column('nkillter', Integer),\n",
        "    Column('nwound', Integer),\n",
        "    Column('nwoundus', Integer),\n",
        "    Column('nwoundte', Integer),\n",
        ")"
      ],
      "metadata": {
        "id": "rxpV_msf9QqT"
      },
      "id": "rxpV_msf9QqT",
      "execution_count": 26,
      "outputs": []
    },
    {
      "cell_type": "code",
      "source": [
        "properties = Table(\n",
        "    'Properties', metadata,\n",
        "    Column('id', Integer, primary_key=True),\n",
        "    Column('properties', Integer),\n",
        "    Column('propvalue', Integer),\n",
        "    Column('propcomment', Text),\n",
        ")"
      ],
      "metadata": {
        "id": "PD11mEE29u6Z"
      },
      "id": "PD11mEE29u6Z",
      "execution_count": 27,
      "outputs": []
    },
    {
      "cell_type": "code",
      "source": [
        "incident = Table(\n",
        "    'Incident', metadata,\n",
        "    Column('id', Integer, primary_key=True),\n",
        "    Column('iyear', Integer),\n",
        "    Column('imonth', Integer),\n",
        "    Column('iday', Integer),\n",
        "    Column('city_id', Integer, ForeignKey('City.id')),\n",
        "    Column('type_incident_id', Integer, ForeignKey('Type_Incident.id')),\n",
        "    Column('type_attack_id', Integer, ForeignKey('Type_Attack.id')),\n",
        "    Column('target_sub_type_id', Integer, ForeignKey('Target_Sub_Type.id')),\n",
        "    Column('corp_id', Integer, ForeignKey('Corp.id')),\n",
        "    Column('target_id', Integer, ForeignKey('Target.id')),\n",
        "    Column('natlty_id', Integer, ForeignKey('Natlty.id')),\n",
        "    Column('claimmode_id', Integer, ForeignKey('Claimmode.id')),\n",
        "    Column('weapon_sub_type_id', Integer, ForeignKey('Weapon_Sub_Type.id')),\n",
        "    Column('propextent_id', Integer, ForeignKey('Propextent.id')),\n",
        ")"
      ],
      "metadata": {
        "id": "_6slhFwx_3eR"
      },
      "id": "_6slhFwx_3eR",
      "execution_count": 28,
      "outputs": []
    },
    {
      "cell_type": "code",
      "source": [
        "metadata.create_all(engine)"
      ],
      "metadata": {
        "id": "Wv_ETFb3mPin"
      },
      "id": "Wv_ETFb3mPin",
      "execution_count": 29,
      "outputs": []
    },
    {
      "cell_type": "code",
      "source": [
        "regions = tdset.df['region_txt'].drop_duplicates()\n",
        "countries = tdset.df[['country_txt', 'region_txt']].drop_duplicates()\n",
        "cities = tdset.df[['city', 'country_txt']].drop_duplicates()\n",
        "type_attacks = tdset.df['attacktype1_txt'].drop_duplicates()\n",
        "corps = tdset.df['corp1'].drop_duplicates()\n",
        "natlties = tdset.df['natlty1_txt'].drop_duplicates()\n",
        "weapon_types = tdset.df['weaptype1_txt'].drop_duplicates()\n",
        "weapon_sub_types = tdset.df[['weapsubtype1_txt', 'weaptype1_txt']].drop_duplicates()\n",
        "propextents = tdset.df['propextent_txt'].drop_duplicates()\n",
        "claimmods = tdset.df['claimmode_txt'].drop_duplicates()\n",
        "targets = tdset.df['target1'].drop_duplicates()\n",
        "target_types = tdset.df['targtype1_txt'].drop_duplicates()\n",
        "target_sub_types = tdset.df[['targsubtype1_txt', 'targtype1_txt']].drop_duplicates()\n",
        "type_incidents = tdset.df['alternative_txt'].drop_duplicates()"
      ],
      "metadata": {
        "id": "v7TVp6oLklJG"
      },
      "id": "v7TVp6oLklJG",
      "execution_count": 30,
      "outputs": []
    },
    {
      "cell_type": "code",
      "source": [
        "for region_name in regions:\n",
        "    new_region = { 'region_txt': region_name }\n",
        "    session.execute(region.insert().values(new_region))"
      ],
      "metadata": {
        "id": "n3CDj1s-kqig"
      },
      "id": "n3CDj1s-kqig",
      "execution_count": 31,
      "outputs": []
    },
    {
      "cell_type": "code",
      "source": [
        "for _, row in countries.iterrows():\n",
        "    result = session.execute(db.select(region.c.id).where(region.c.region_txt == row['region_txt']))\n",
        "    region_id = result.fetchone()\n",
        "    region_id = region_id[0]\n",
        "    new_country = { 'country_txt': row['country_txt'], 'region_id': region_id }\n",
        "    session.execute(country.insert().values(new_country))"
      ],
      "metadata": {
        "id": "FXhgpY97CzrO"
      },
      "id": "FXhgpY97CzrO",
      "execution_count": 32,
      "outputs": []
    },
    {
      "cell_type": "code",
      "source": [
        "for _, row in cities.iterrows():\n",
        "    result = session.execute(db.select(country.c.id).where(country.c.country_txt == row['country_txt']))\n",
        "    country_id = result.fetchone()\n",
        "    country_id = country_id[0]\n",
        "    new_city = { 'city': row['city'], 'country_id': country_id }\n",
        "    session.execute(city.insert().values(new_city))"
      ],
      "metadata": {
        "id": "v5WT7eC6HPO2"
      },
      "id": "v5WT7eC6HPO2",
      "execution_count": 33,
      "outputs": []
    },
    {
      "cell_type": "code",
      "source": [
        "for type_attack_name in type_attacks:\n",
        "    new_type_attack = { 'attacktype1_txt': type_attack_name }\n",
        "    session.execute(type_attack.insert().values(new_type_attack))"
      ],
      "metadata": {
        "id": "b1Tzu5e6KYJq"
      },
      "id": "b1Tzu5e6KYJq",
      "execution_count": 34,
      "outputs": []
    },
    {
      "cell_type": "code",
      "source": [
        "for corp_name in corps:\n",
        "    new_corp = { 'corp1': corp_name }\n",
        "    session.execute(corp.insert().values(new_corp))"
      ],
      "metadata": {
        "id": "8JdVaLjjLFJD"
      },
      "id": "8JdVaLjjLFJD",
      "execution_count": 35,
      "outputs": []
    },
    {
      "cell_type": "code",
      "source": [
        "for natlty_name in natlties:\n",
        "    new_natlty = { 'natlty1_txt': natlty_name }\n",
        "    session.execute(natlty.insert().values(new_natlty))"
      ],
      "metadata": {
        "id": "Qa-lzgvArd72"
      },
      "id": "Qa-lzgvArd72",
      "execution_count": 36,
      "outputs": []
    },
    {
      "cell_type": "code",
      "source": [
        "for weapon_type_name in weapon_types:\n",
        "    new_weapon_type = { 'weaptype1_txt': weapon_type_name }\n",
        "    session.execute(weapon_type.insert().values(new_weapon_type))"
      ],
      "metadata": {
        "id": "zZhP4fBkrx5u"
      },
      "id": "zZhP4fBkrx5u",
      "execution_count": 37,
      "outputs": []
    },
    {
      "cell_type": "code",
      "source": [
        "for _, row in weapon_sub_types.iterrows():\n",
        "    result = session.execute(db.select(weapon_type.c.id).where(weapon_type.c.weaptype1_txt == row['weaptype1_txt']))\n",
        "    weapon_type_id = result.fetchone()\n",
        "    weapon_type_id = weapon_type_id[0]\n",
        "    new_weapon_sub_type = { 'weapsubtype1_txt': row['weapsubtype1_txt'], 'weapon_type_id': weapon_type_id }\n",
        "    session.execute(weapon_sub_type.insert().values(new_weapon_sub_type))"
      ],
      "metadata": {
        "id": "1AXZLcImsMcm"
      },
      "id": "1AXZLcImsMcm",
      "execution_count": 38,
      "outputs": []
    },
    {
      "cell_type": "code",
      "source": [
        "for propextent_name in propextents:\n",
        "    new_propextent = { 'propextent_txt': propextent_name }\n",
        "    session.execute(propextent.insert().values(new_propextent))"
      ],
      "metadata": {
        "id": "Cxa89QCMtcy9"
      },
      "id": "Cxa89QCMtcy9",
      "execution_count": 39,
      "outputs": []
    },
    {
      "cell_type": "code",
      "source": [
        "for claimmode_name in claimmods:\n",
        "    new_claimmode = { 'claimmode_txt': claimmode_name }\n",
        "    session.execute(claimmode.insert().values(new_claimmode))"
      ],
      "metadata": {
        "id": "Sb_srf7DxIj_"
      },
      "id": "Sb_srf7DxIj_",
      "execution_count": 40,
      "outputs": []
    },
    {
      "cell_type": "code",
      "source": [
        "for target_name in targets:\n",
        "    new_target = { 'target1': target_name }\n",
        "    session.execute(target.insert().values(new_target))"
      ],
      "metadata": {
        "id": "YHb55dGVxZfZ"
      },
      "id": "YHb55dGVxZfZ",
      "execution_count": 41,
      "outputs": []
    },
    {
      "cell_type": "code",
      "source": [
        "for target_type_name in target_types:\n",
        "    new_target_type = { 'targtype1_txt': target_type_name }\n",
        "    session.execute(target_type.insert().values(new_target_type))"
      ],
      "metadata": {
        "id": "fPVUW-dNxq9w"
      },
      "id": "fPVUW-dNxq9w",
      "execution_count": 42,
      "outputs": []
    },
    {
      "cell_type": "code",
      "source": [
        "for _, row in target_sub_types.iterrows():\n",
        "    result = session.execute(db.select(target_type.c.id).where(target_type.c.targtype1_txt == row['targtype1_txt']))\n",
        "    target_type_id = result.fetchone()\n",
        "    target_type_id = target_type_id[0]\n",
        "    new_target_sub_type = { 'targsubtype1_txt': row['targsubtype1_txt'], 'target_type_id': target_type_id }\n",
        "    session.execute(target_sub_type.insert().values(new_target_sub_type))"
      ],
      "metadata": {
        "id": "H0ghmtlQx8sZ"
      },
      "id": "H0ghmtlQx8sZ",
      "execution_count": 43,
      "outputs": []
    },
    {
      "cell_type": "code",
      "source": [
        "for type_incident_name in type_incidents:\n",
        "    new_type_incident = { 'alternative_txt': type_incident_name }\n",
        "    session.execute(type_incident.insert().values(new_type_incident))"
      ],
      "metadata": {
        "id": "KXwARtFMy4Ha"
      },
      "id": "KXwARtFMy4Ha",
      "execution_count": 44,
      "outputs": []
    },
    {
      "cell_type": "code",
      "source": [
        "for _, row in tdset.df.iterrows():\n",
        "    new_other_data = {\n",
        "          'addnotes': row['addnotes'],\n",
        "          'scite1': row['scite1'],\n",
        "          'scite2': row['scite2'],\n",
        "          'scite3': row['scite3'],\n",
        "          }\n",
        "    session.execute(other_data.insert().values(new_other_data))"
      ],
      "metadata": {
        "id": "qYi3gmTQPhV9"
      },
      "id": "qYi3gmTQPhV9",
      "execution_count": 45,
      "outputs": []
    },
    {
      "cell_type": "code",
      "source": [
        "for _, row in tdset.df.iterrows():\n",
        "  new_international_data = {\n",
        "          'INT_LOG': row['INT_LOG'],\n",
        "          'INT_IDEO': row['INT_IDEO'],\n",
        "          'INT_MISC': row['INT_MISC'],\n",
        "          'INT_ANY': row['INT_ANY'],\n",
        "          }\n",
        "  session.execute(international_data.insert().values(new_international_data))"
      ],
      "metadata": {
        "id": "WEoDtyfVNwF4"
      },
      "id": "WEoDtyfVNwF4",
      "execution_count": 46,
      "outputs": []
    },
    {
      "cell_type": "code",
      "source": [
        "for _, row in tdset.df.iterrows():\n",
        "  new_placespec = {\n",
        "          'latitude': row['latitude'],\n",
        "          'longitude': row['longitude'],\n",
        "          'specificity': row['specificity'],\n",
        "          'vicinity': row['vicinity'],\n",
        "          'location': row['location'],\n",
        "          'summary': row['summary'],\n",
        "          'motive': row['motive'],\n",
        "          }\n",
        "  session.execute(placespec.insert().values(new_placespec))"
      ],
      "metadata": {
        "id": "UDocSqSfP-a-"
      },
      "id": "UDocSqSfP-a-",
      "execution_count": 47,
      "outputs": []
    },
    {
      "cell_type": "code",
      "source": [
        "for _, row in tdset.df.iterrows():\n",
        "  new_hostages = {\n",
        "          'ishostkid': row['ishostkid'],\n",
        "          'nhostkid': row['nhostkid'],\n",
        "          'nhostkidus': row['nhostkidus'],\n",
        "          'ndays': row['ndays'],\n",
        "          'ransom': row['ransom'],\n",
        "          'ransomamt': row['ransomamt'],\n",
        "          'ransompaid': row['ransompaid'],\n",
        "          'hostkidoutcome_txt': row['hostkidoutcome_txt'],\n",
        "          }\n",
        "  session.execute(hostages.insert().values(new_hostages))"
      ],
      "metadata": {
        "id": "KAf1129NQK4w"
      },
      "id": "KAf1129NQK4w",
      "execution_count": 48,
      "outputs": []
    },
    {
      "cell_type": "code",
      "source": [
        "for _, row in tdset.df.iterrows():\n",
        "  new_attackspec = {\n",
        "          'crit1': row['crit1'],\n",
        "          'crit2': row['crit2'],\n",
        "          'crit3': row['crit3'],\n",
        "          'doubtterr': row['doubtterr'],\n",
        "          'multiple': row['multiple'],\n",
        "          'success': row['success'],\n",
        "          'suicide': row['suicide'],\n",
        "          }\n",
        "  session.execute(attackspec.insert().values(new_attackspec))"
      ],
      "metadata": {
        "id": "ATwKEKL7Qego"
      },
      "id": "ATwKEKL7Qego",
      "execution_count": 49,
      "outputs": []
    },
    {
      "cell_type": "code",
      "source": [
        "for _, row in tdset.df.iterrows():\n",
        "  new_victims = {\n",
        "          'nkill': row['nkill'],\n",
        "          'nkillus': row['nkillus'],\n",
        "          'nkillter': row['nkillter'],\n",
        "          'nwound': row['nwound'],\n",
        "          'nwoundus': row['nwoundus'],\n",
        "          'nwoundte': row['nwoundte'],\n",
        "          }\n",
        "  session.execute(victims.insert().values(new_victims))"
      ],
      "metadata": {
        "id": "4v4RJP_YQwZb"
      },
      "id": "4v4RJP_YQwZb",
      "execution_count": 50,
      "outputs": []
    },
    {
      "cell_type": "code",
      "source": [
        "for _, row in tdset.df.iterrows():\n",
        "  new_properties = {\n",
        "          'properties': row['properties'],\n",
        "          'propvalue': row['propvalue'],\n",
        "          'propcomment': row['propcomment'],\n",
        "          }\n",
        "  session.execute(properties.insert().values(new_properties))"
      ],
      "metadata": {
        "id": "lKO0TNlNQ28k"
      },
      "id": "lKO0TNlNQ28k",
      "execution_count": 51,
      "outputs": []
    },
    {
      "cell_type": "code",
      "source": [
        "# Variant 1. 60 - 90 minuts\n",
        "\n",
        "for _, row in tdset.df.iterrows():\n",
        "    city_results = session.execute(db.select(city.c.id).where(city.c.city == row['city'])).scalars().all()\n",
        "    city_id = city_results[0] if city_results else None\n",
        "    target_sub_type_results = session.execute(db.select(target_sub_type.c.id).where(target_sub_type.c.targsubtype1_txt == row['targsubtype1_txt'])).scalars().all()\n",
        "    target_sub_type_id = target_sub_type_results[0] if target_sub_type_results else None\n",
        "    weapon_sub_type_results = session.execute(db.select(weapon_sub_type.c.id).where(weapon_sub_type.c.weapsubtype1_txt == row['weapsubtype1_txt'])).scalars().all()\n",
        "    weapon_sub_type_id = weapon_sub_type_results[0] if weapon_sub_type_results else None\n",
        "\n",
        "\n",
        "    new_incident = {\n",
        "        'iyear': row['iyear'],\n",
        "        'imonth': row['imonth'],\n",
        "        'iday': row['iday'],\n",
        "        'city_id': city_id,\n",
        "        'type_incident_id': session.execute(db.select(type_incident.c.id).where(type_incident.c.alternative_txt == row['alternative_txt'])).scalar_one_or_none(),\n",
        "        'type_attack_id': session.execute(db.select(type_attack.c.id).where(type_attack.c.attacktype1_txt == row['attacktype1_txt'])).scalar_one_or_none(),\n",
        "        'target_sub_type_id': target_sub_type_id,\n",
        "        'corp_id': session.execute(db.select(corp.c.id).where(corp.c.corp1 == row['corp1'])).scalar_one_or_none(),\n",
        "        'target_id': session.execute(db.select(target.c.id).where(target.c.target1 == row['target1'])).scalar_one_or_none(),\n",
        "        'natlty_id': session.execute(db.select(natlty.c.id).where(natlty.c.natlty1_txt == row['natlty1_txt'])).scalar_one_or_none(),\n",
        "        'claimmode_id': session.execute(db.select(claimmode.c.id).where(claimmode.c.claimmode_txt == row['claimmode_txt'])).scalar_one_or_none(),\n",
        "        'weapon_sub_type_id': weapon_sub_type_id,\n",
        "        'propextent_id': session.execute(db.select(propextent.c.id).where(propextent.c.propextent_txt == row['propextent_txt'])).scalar_one_or_none(),\n",
        "        }\n",
        "\n",
        "    session.execute(incident.insert().values(new_incident))\n",
        "\n",
        "session.commit()"
      ],
      "metadata": {
        "id": "RCVUXsg00Cqu"
      },
      "id": "RCVUXsg00Cqu",
      "execution_count": null,
      "outputs": []
    },
    {
      "cell_type": "code",
      "source": [
        "# Variant 2. 44 minuts\n",
        "\n",
        "cities_data = fetch_as_dict(session, db.select(city.c.id, city.c.city))\n",
        "cities = {row['city']: row['id'] for row in cities_data}\n",
        "\n",
        "target_sub_types_data = fetch_as_dict(session, db.select(target_sub_type.c.id, target_sub_type.c.targsubtype1_txt))\n",
        "target_sub_types = {row['targsubtype1_txt']: row['id'] for row in target_sub_types_data}\n",
        "\n",
        "weapon_sub_types_data = fetch_as_dict(session, db.select(weapon_sub_type.c.id, weapon_sub_type.c.weapsubtype1_txt))\n",
        "weapon_sub_types = {row['weapsubtype1_txt']: row['id'] for row in weapon_sub_types_data}\n",
        "\n",
        "\n",
        "new_incidents = []\n",
        "\n",
        "for _, row in tdset.df.iterrows():\n",
        "    city_id = cities.get(row['city'])\n",
        "    target_sub_type_id = target_sub_types.get(row['targsubtype1_txt'])\n",
        "    weapon_sub_type_id = weapon_sub_types.get(row['weapsubtype1_txt'])\n",
        "\n",
        "    new_incident = {\n",
        "        'iyear': row['iyear'],\n",
        "        'imonth': row['imonth'],\n",
        "        'iday': row['iday'],\n",
        "        'city_id': city_id,\n",
        "        'type_incident_id': session.execute(db.select(type_incident.c.id).where(type_incident.c.alternative_txt == row['alternative_txt'])).scalar_one_or_none(),\n",
        "        'type_attack_id': session.execute(db.select(type_attack.c.id).where(type_attack.c.attacktype1_txt == row['attacktype1_txt'])).scalar_one_or_none(),\n",
        "        'target_sub_type_id': target_sub_type_id,\n",
        "        'corp_id': session.execute(db.select(corp.c.id).where(corp.c.corp1 == row['corp1'])).scalar_one_or_none(),\n",
        "        'target_id': session.execute(db.select(target.c.id).where(target.c.target1 == row['target1'])).scalar_one_or_none(),\n",
        "        'natlty_id': session.execute(db.select(natlty.c.id).where(natlty.c.natlty1_txt == row['natlty1_txt'])).scalar_one_or_none(),\n",
        "        'claimmode_id': session.execute(db.select(claimmode.c.id).where(claimmode.c.claimmode_txt == row['claimmode_txt'])).scalar_one_or_none(),\n",
        "        'weapon_sub_type_id': weapon_sub_type_id,\n",
        "        'propextent_id': session.execute(db.select(propextent.c.id).where(propextent.c.propextent_txt == row['propextent_txt'])).scalar_one_or_none(),\n",
        "    }\n",
        "\n",
        "    new_incidents.append(new_incident)\n",
        "\n",
        "\n",
        "session.execute(incident.insert(), new_incidents)\n",
        "session.commit()"
      ],
      "metadata": {
        "id": "1RhK_GsPTNzh"
      },
      "id": "1RhK_GsPTNzh",
      "execution_count": 70,
      "outputs": []
    },
    {
      "cell_type": "code",
      "source": [
        "import shutil\n",
        "\n",
        "shutil.copy('GTDb1_1.db', '/content/drive/My Drive/GTDb.db')"
      ],
      "metadata": {
        "id": "9S0wY8ulvhuu",
        "colab": {
          "base_uri": "https://localhost:8080/",
          "height": 35
        },
        "outputId": "07dfdf0d-33c2-40ae-c2ac-260ed09be2b8"
      },
      "id": "9S0wY8ulvhuu",
      "execution_count": 74,
      "outputs": [
        {
          "output_type": "execute_result",
          "data": {
            "text/plain": [
              "'/content/drive/My Drive/GTDb.db'"
            ],
            "application/vnd.google.colaboratory.intrinsic+json": {
              "type": "string"
            }
          },
          "metadata": {},
          "execution_count": 74
        }
      ]
    },
    {
      "cell_type": "code",
      "source": [
        "session.commit()\n",
        "\n",
        "session.close()"
      ],
      "metadata": {
        "id": "4EVw6YXaMyXM"
      },
      "id": "4EVw6YXaMyXM",
      "execution_count": 52,
      "outputs": []
    },
    {
      "cell_type": "code",
      "source": [
        "inspector()"
      ],
      "metadata": {
        "id": "cMJy_CognDP8",
        "colab": {
          "base_uri": "https://localhost:8080/"
        },
        "outputId": "a9ef8b3b-b061-460b-94d7-97948b8013d8"
      },
      "id": "cMJy_CognDP8",
      "execution_count": 53,
      "outputs": [
        {
          "output_type": "stream",
          "name": "stdout",
          "text": [
            "['AttackSpec', 'City', 'Claimmode', 'Corp', 'Country', 'Hostages', 'Incident', 'International_Data', 'Natlty', 'Other_Data', 'PlaceSpec', 'Properties', 'Propextent', 'Region', 'Target', 'Target_Sub_Type', 'Target_Type', 'Type_Attack', 'Type_Incident', 'Victims', 'Weapon_Sub_Type', 'Weapon_Type']\n",
            "Для просмотра таблицы, введите view_table(table_name).\n",
            "Например для 'Classroom' будет view_table(classroom).\n"
          ]
        }
      ]
    },
    {
      "cell_type": "code",
      "source": [
        "view_table(type_attack)"
      ],
      "metadata": {
        "id": "iJoKiqaqnFLD",
        "colab": {
          "base_uri": "https://localhost:8080/"
        },
        "outputId": "c68be190-9975-43ed-e1ae-3dcda8c76833"
      },
      "id": "iJoKiqaqnFLD",
      "execution_count": 54,
      "outputs": [
        {
          "output_type": "stream",
          "name": "stdout",
          "text": [
            "(1, 'Assassination')\n",
            "(2, 'Hostage Taking (Kidnapping)')\n",
            "(3, 'Bombing/Explosion')\n",
            "(4, 'Facility/Infrastructure Attack')\n",
            "(5, 'Armed Assault')\n",
            "(6, 'Hijacking')\n",
            "(7, 'Unknown')\n",
            "(8, 'Unarmed Assault')\n",
            "(9, 'Hostage Taking (Barricade Incident)')\n"
          ]
        }
      ]
    }
  ],
  "metadata": {
    "kernelspec": {
      "display_name": "Python 3 (ipykernel)",
      "language": "python",
      "name": "python3"
    },
    "language_info": {
      "codemirror_mode": {
        "name": "ipython",
        "version": 3
      },
      "file_extension": ".py",
      "mimetype": "text/x-python",
      "name": "python",
      "nbconvert_exporter": "python",
      "pygments_lexer": "ipython3",
      "version": "3.12.3"
    },
    "colab": {
      "provenance": []
    }
  },
  "nbformat": 4,
  "nbformat_minor": 5
}